{
  "cells": [
    {
      "cell_type": "markdown",
      "source": [
        "**Import all Libraries**"
      ],
      "metadata": {
        "id": "I3rwpEs3rTd9"
      }
    },
    {
      "cell_type": "code",
      "execution_count": null,
      "metadata": {
        "id": "H1VCO5H72Cj2"
      },
      "outputs": [],
      "source": [
        "import tensorflow as tf\n",
        "import numpy as np\n",
        "import keras\n",
        "from keras.layers import Input, Dense, Flatten,Conv2D ,MaxPooling2D ,Dropout\n",
        "from keras.models import Model, Sequential\n",
        "from keras import datasets, layers, models\n",
        "from sklearn import metrics\n",
        "from sklearn.metrics import classification_report,precision_score,recall_score,f1_score\n",
        "import matplotlib.pyplot as plt"
      ]
    },
    {
      "cell_type": "markdown",
      "source": [
        "**Load Dataset**"
      ],
      "metadata": {
        "id": "1eGb2YuJrchr"
      }
    },
    {
      "cell_type": "code",
      "execution_count": null,
      "metadata": {
        "colab": {
          "base_uri": "https://localhost:8080/"
        },
        "id": "Jy6zmoB55Lk-",
        "outputId": "4f48ae80-a729-4971-b43d-a6437d36433f"
      },
      "outputs": [
        {
          "output_type": "stream",
          "name": "stdout",
          "text": [
            "Downloading data from https://www.cs.toronto.edu/~kriz/cifar-10-python.tar.gz\n",
            "170500096/170498071 [==============================] - 13s 0us/step\n",
            "170508288/170498071 [==============================] - 13s 0us/step\n"
          ]
        }
      ],
      "source": [
        "(train_images, train_labels), (test_images, test_labels) = datasets.cifar10.load_data()\n",
        "\n",
        "# Normalize pixel values to be between 0 and 1\n",
        "train_images, test_images = train_images / 255.0, test_images / 255.0"
      ]
    },
    {
      "cell_type": "markdown",
      "source": [
        "**Layers for CNN Building**"
      ],
      "metadata": {
        "id": "_xHKV6AVrm7w"
      }
    },
    {
      "cell_type": "code",
      "execution_count": null,
      "metadata": {
        "id": "WgbhRT8n2C64"
      },
      "outputs": [],
      "source": [
        "model=Sequential()\n",
        "model.add(Conv2D(filters=16,kernel_size=2,padding=\"same\", activation=\"relu\",input_shape=(32,32,3)))\n",
        "model.add(MaxPooling2D(pool_size=2))\n",
        "model.add(Conv2D(filters=32,kernel_size=2, strides=(2, 2), padding=\"same\", activation =\"relu\"))\n",
        "model.add(MaxPooling2D(pool_size=2))\n",
        "model.add(Conv2D(filters=64,kernel_size=2, padding=\"same\",  dilation_rate=2,activation=\"relu\"))\n",
        "model.add(MaxPooling2D(pool_size=2))\n",
        "model.add(Dropout(0.5))\n",
        "model.add(Flatten())\n",
        "model.add(Dense(64,activation=\"relu\"))\n",
        "model.add(Dense(10,activation=\"softmax\"))"
      ]
    },
    {
      "cell_type": "markdown",
      "source": [
        "**Loss Functios and optimizers**"
      ],
      "metadata": {
        "id": "6m410Qm9sCLT"
      }
    },
    {
      "cell_type": "code",
      "execution_count": null,
      "metadata": {
        "colab": {
          "base_uri": "https://localhost:8080/"
        },
        "id": "8jCe8epy53w6",
        "outputId": "e9a2069b-f1e4-4efe-8524-2eddaeb76bb1"
      },
      "outputs": [
        {
          "output_type": "stream",
          "name": "stdout",
          "text": [
            "Epoch 1/10\n"
          ]
        },
        {
          "output_type": "stream",
          "name": "stderr",
          "text": [
            "/usr/local/lib/python3.7/dist-packages/tensorflow/python/util/dispatch.py:1082: UserWarning: \"`sparse_categorical_crossentropy` received `from_logits=True`, but the `output` argument was produced by a sigmoid or softmax activation and thus does not represent logits. Was this intended?\"\n",
            "  return dispatch_target(*args, **kwargs)\n"
          ]
        },
        {
          "output_type": "stream",
          "name": "stdout",
          "text": [
            "1563/1563 [==============================] - 19s 5ms/step - loss: 1.7891 - accuracy: 0.3375 - val_loss: 1.5159 - val_accuracy: 0.4482\n",
            "Epoch 2/10\n",
            "1563/1563 [==============================] - 7s 4ms/step - loss: 1.5095 - accuracy: 0.4505 - val_loss: 1.3426 - val_accuracy: 0.5187\n",
            "Epoch 3/10\n",
            "1563/1563 [==============================] - 7s 4ms/step - loss: 1.4231 - accuracy: 0.4863 - val_loss: 1.3008 - val_accuracy: 0.5303\n",
            "Epoch 4/10\n",
            "1563/1563 [==============================] - 6s 4ms/step - loss: 1.3573 - accuracy: 0.5122 - val_loss: 1.2773 - val_accuracy: 0.5475\n",
            "Epoch 5/10\n",
            "1563/1563 [==============================] - 6s 4ms/step - loss: 1.3130 - accuracy: 0.5262 - val_loss: 1.1883 - val_accuracy: 0.5773\n",
            "Epoch 6/10\n",
            "1563/1563 [==============================] - 7s 4ms/step - loss: 1.2717 - accuracy: 0.5419 - val_loss: 1.1633 - val_accuracy: 0.5851\n",
            "Epoch 7/10\n",
            "1563/1563 [==============================] - 7s 4ms/step - loss: 1.2457 - accuracy: 0.5500 - val_loss: 1.1513 - val_accuracy: 0.5843\n",
            "Epoch 8/10\n",
            "1563/1563 [==============================] - 6s 4ms/step - loss: 1.2193 - accuracy: 0.5614 - val_loss: 1.1084 - val_accuracy: 0.6002\n",
            "Epoch 9/10\n",
            "1563/1563 [==============================] - 7s 4ms/step - loss: 1.1985 - accuracy: 0.5693 - val_loss: 1.1359 - val_accuracy: 0.5939\n",
            "Epoch 10/10\n",
            "1563/1563 [==============================] - 6s 4ms/step - loss: 1.1777 - accuracy: 0.5779 - val_loss: 1.0807 - val_accuracy: 0.6109\n"
          ]
        }
      ],
      "source": [
        "model.compile(optimizer='adam',\n",
        "              loss=tf.keras.losses.SparseCategoricalCrossentropy(from_logits=True),\n",
        "              metrics=['accuracy'])\n",
        "history = model.fit(train_images, train_labels, epochs=10, \n",
        "                    validation_data=(test_images, test_labels))"
      ]
    },
    {
      "cell_type": "markdown",
      "source": [
        "**Summary of CNN Model**"
      ],
      "metadata": {
        "id": "8fDDiCZssJja"
      }
    },
    {
      "cell_type": "code",
      "execution_count": null,
      "metadata": {
        "colab": {
          "base_uri": "https://localhost:8080/"
        },
        "id": "t6PqLR2W-idt",
        "outputId": "3761a4ab-61c2-45f1-a6d4-f74e6ffb8981"
      },
      "outputs": [
        {
          "output_type": "stream",
          "name": "stdout",
          "text": [
            "Model: \"sequential\"\n",
            "_________________________________________________________________\n",
            " Layer (type)                Output Shape              Param #   \n",
            "=================================================================\n",
            " conv2d (Conv2D)             (None, 32, 32, 16)        208       \n",
            "                                                                 \n",
            " max_pooling2d (MaxPooling2D  (None, 16, 16, 16)       0         \n",
            " )                                                               \n",
            "                                                                 \n",
            " conv2d_1 (Conv2D)           (None, 8, 8, 32)          2080      \n",
            "                                                                 \n",
            " max_pooling2d_1 (MaxPooling  (None, 4, 4, 32)         0         \n",
            " 2D)                                                             \n",
            "                                                                 \n",
            " conv2d_2 (Conv2D)           (None, 4, 4, 64)          8256      \n",
            "                                                                 \n",
            " max_pooling2d_2 (MaxPooling  (None, 2, 2, 64)         0         \n",
            " 2D)                                                             \n",
            "                                                                 \n",
            " dropout (Dropout)           (None, 2, 2, 64)          0         \n",
            "                                                                 \n",
            " flatten (Flatten)           (None, 256)               0         \n",
            "                                                                 \n",
            " dense (Dense)               (None, 64)                16448     \n",
            "                                                                 \n",
            " dense_1 (Dense)             (None, 10)                650       \n",
            "                                                                 \n",
            "=================================================================\n",
            "Total params: 27,642\n",
            "Trainable params: 27,642\n",
            "Non-trainable params: 0\n",
            "_________________________________________________________________\n"
          ]
        }
      ],
      "source": [
        "model.summary()"
      ]
    },
    {
      "cell_type": "markdown",
      "source": [
        "**Run Epouchs and calcuate Accuracy**"
      ],
      "metadata": {
        "id": "WHhk5Y4qsPGU"
      }
    },
    {
      "cell_type": "code",
      "execution_count": null,
      "metadata": {
        "colab": {
          "base_uri": "https://localhost:8080/"
        },
        "id": "s-AWMf6O6xwc",
        "outputId": "64e2520a-c00f-4874-834a-448f7c8390b5"
      },
      "outputs": [
        {
          "output_type": "stream",
          "name": "stdout",
          "text": [
            "313/313 - 1s - loss: 1.0807 - accuracy: 0.6109 - 649ms/epoch - 2ms/step\n"
          ]
        },
        {
          "output_type": "display_data",
          "data": {
            "text/plain": [
              "<Figure size 432x288 with 1 Axes>"
            ],
            "image/png": "[encoded data removed]"
          },
          "metadata": {
            "needs_background": "light"
          }
        }
      ],
      "source": [
        "plt.plot(history.history['accuracy'], label='accuracy')\n",
        "plt.plot(history.history['val_accuracy'], label = 'val_accuracy')\n",
        "plt.xlabel('Epoch')\n",
        "plt.ylabel('Accuracy')\n",
        "plt.ylim([0.0, 1])\n",
        "plt.legend(loc='lower right')\n",
        "test_loss, test_acc = model.evaluate(test_images,  test_labels, verbose=2)\n"
      ]
    },
    {
      "cell_type": "markdown",
      "source": [
        "**Test and Loss Accuracy**"
      ],
      "metadata": {
        "id": "YwC_sufPsXdA"
      }
    },
    {
      "cell_type": "code",
      "execution_count": null,
      "metadata": {
        "colab": {
          "base_uri": "https://localhost:8080/"
        },
        "id": "jNu2YNyF94kb",
        "outputId": "bb21316e-44c8-49b1-82a2-3e313f1e94ea"
      },
      "outputs": [
        {
          "output_type": "stream",
          "name": "stdout",
          "text": [
            "0.6108999848365784\n",
            "1.08065927028656\n"
          ]
        }
      ],
      "source": [
        "print(test_acc)\n",
        "print(test_loss)"
      ]
    },
    {
      "cell_type": "markdown",
      "source": [
        "**Confusion Matrix**"
      ],
      "metadata": {
        "id": "87UmTKkysdAv"
      }
    },
    {
      "cell_type": "code",
      "execution_count": null,
      "metadata": {
        "colab": {
          "base_uri": "https://localhost:8080/"
        },
        "id": "8rOwPq9n-0X8",
        "outputId": "c4ca9f2b-a5a9-4d09-bb27-c577f998e43f"
      },
      "outputs": [
        {
          "output_type": "stream",
          "name": "stdout",
          "text": [
            "Precision:  [0.63636364 0.74943567 0.50800427 0.45503792 0.51482702 0.5101626\n",
            " 0.76949942 0.66332665 0.6756993  0.65445545]\n",
            "Recall:  [0.665 0.664 0.476 0.42  0.625 0.502 0.661 0.662 0.773 0.661]\n"
          ]
        },
        {
          "output_type": "execute_result",
          "data": {
            "text/plain": [
              "<matplotlib.axes._subplots.AxesSubplot at 0x7f1510183fd0>"
            ]
          },
          "metadata": {},
          "execution_count": 8
        },
        {
          "output_type": "display_data",
          "data": {
            "text/plain": [
              "<Figure size 720x504 with 2 Axes>"
            ],
            "image/png": "[encoded data removed]"
          },
          "metadata": {
            "needs_background": "light"
          }
        }
      ],
      "source": [
        "from sklearn.metrics import confusion_matrix\n",
        "import seaborn as sns\n",
        "predictions  = model.predict(test_images)\n",
        "predictions_for_cm = predictions.argmax(1)\n",
        "class_names = [\"airplane\",\"automobile\",\"bird\",\"cat\",\"deer\",\"dog\",\"frog\",\"horse\",\"ship\",\"truck\"]\n",
        "cm = confusion_matrix(test_labels,predictions_for_cm)\n",
        "recall = np.diag(cm) / np.sum(cm, axis = 1)\n",
        "precision = np.diag(cm) / np.sum(cm, axis = 0)\n",
        "print('Precision: ',precision)\n",
        "print('Recall: ',recall)\n",
        "plt.figure(figsize=(10,7))\n",
        "sns.heatmap(cm, annot=True,  xticklabels=class_names, yticklabels = class_names,fmt='d')"
      ]
    },
    {
      "cell_type": "markdown",
      "source": [
        ""
      ],
      "metadata": {
        "id": "dRt6Cptkshq9"
      }
    },
    {
      "cell_type": "code",
      "source": [
        "print(\"Accuracy:\",test_acc)\n",
        "print(\"Precision:\", precision_score(test_labels, predictions_for_cm, average=\"macro\"))\n",
        "print(\"Recall:\", recall_score(test_labels, predictions_for_cm, average=\"macro\"))"
      ],
      "metadata": {
        "colab": {
          "base_uri": "https://localhost:8080/"
        },
        "id": "AhZ0DKgGhFPo",
        "outputId": "3458543a-695c-480e-eff3-9b7c7b3a2a16"
      },
      "execution_count": null,
      "outputs": [
        {
          "output_type": "stream",
          "name": "stdout",
          "text": [
            "Accuracy: 0.6108999848365784\n",
            "Precision: 0.6136811928274166\n",
            "Recall: 0.6109\n"
          ]
        }
      ]
    },
    {
      "cell_type": "markdown",
      "source": [
        "**Calculate Precision, Recall and F1-score**"
      ],
      "metadata": {
        "id": "TV1aax5BskAp"
      }
    },
    {
      "cell_type": "code",
      "source": [
        "from sklearn import metrics\n",
        "print(metrics.classification_report(test_labels,predictions_for_cm))"
      ],
      "metadata": {
        "colab": {
          "base_uri": "https://localhost:8080/"
        },
        "id": "zCkW9Tnaqwwb",
        "outputId": "8ddecc73-30ba-4727-82df-88a1f283fb2c"
      },
      "execution_count": null,
      "outputs": [
        {
          "output_type": "stream",
          "name": "stdout",
          "text": [
            "              precision    recall  f1-score   support\n",
            "\n",
            "           0       0.64      0.67      0.65      1000\n",
            "           1       0.75      0.66      0.70      1000\n",
            "           2       0.51      0.48      0.49      1000\n",
            "           3       0.46      0.42      0.44      1000\n",
            "           4       0.51      0.62      0.56      1000\n",
            "           5       0.51      0.50      0.51      1000\n",
            "           6       0.77      0.66      0.71      1000\n",
            "           7       0.66      0.66      0.66      1000\n",
            "           8       0.68      0.77      0.72      1000\n",
            "           9       0.65      0.66      0.66      1000\n",
            "\n",
            "    accuracy                           0.61     10000\n",
            "   macro avg       0.61      0.61      0.61     10000\n",
            "weighted avg       0.61      0.61      0.61     10000\n",
            "\n"
          ]
        }
      ]
    }
  ],
  "metadata": {
    "colab": {
      "collapsed_sections": [],
      "name": "CNN_for_JSON .ipynb",
      "provenance": []
    },
    "kernelspec": {
      "display_name": "Python 3",
      "name": "python3"
    },
    "language_info": {
      "name": "python"
    },
    "accelerator": "GPU",
    "gpuClass": "standard"
  },
  "nbformat": 4,
  "nbformat_minor": 0
}